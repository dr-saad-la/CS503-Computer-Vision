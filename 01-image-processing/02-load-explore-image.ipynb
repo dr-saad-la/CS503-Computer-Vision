{
 "cells": [
  {
   "cell_type": "code",
   "execution_count": null,
   "id": "99857527-a204-433e-9d13-33fbf0d7d260",
   "metadata": {},
   "outputs": [],
   "source": [
    "# ========================================================================\n",
    "#                 Deep Learning For Computer Vision\n",
    "# ========================================================================\n",
    "#   Module: CS503- Deep Learning for Computer Vision\n",
    "#   Topic: Image processing\n",
    "#\n",
    "#  Author: Dr. Saad Laouadi\n",
    "#  Version: 1.0\n",
    "#\n",
    "# ========================================================================\n",
    "#  ®Copyright Dr. Saad Laouadi, 2025. All rights reserved.\n",
    "# ========================================================================"
   ]
  },
  {
   "cell_type": "code",
   "execution_count": null,
   "id": "2f804075-0455-40d7-addf-7367964e3953",
   "metadata": {},
   "outputs": [],
   "source": [
    "# Environment Setup \n",
    "# =================\n",
    "\n",
    "from pathlib import Path\n",
    "import matplotlib.pyplot as plt \n",
    "\n",
    "import cv2 as cv\n",
    "\n",
    "print(\"*\"*52)\n",
    "%reload_ext watermark \n",
    "%watermark -a \"Dr. Saad Laouadi\"\n",
    "%watermark -ud -iv\n",
    "print(\"*\"*52)\n",
    "\n",
    "# Imput Images Path\n",
    "input_path = Path(\"../datasets/images/\")\n",
    "\n",
    "# The save path\n",
    "save_path = Path('../datasets/out_images/')\n",
    "\n",
    "# Create the directory if it doesn't exist\n",
    "save_path.mkdir(parents=True, exist_ok=True)"
   ]
  },
  {
   "cell_type": "markdown",
   "id": "3c0e6fa8-a7eb-424c-a142-4d8583856f9a",
   "metadata": {},
   "source": [
    "### Load Images Using `cv.imread`"
   ]
  },
  {
   "cell_type": "code",
   "execution_count": null,
   "id": "a78647e7-2752-4351-b207-d28c1dba61ea",
   "metadata": {},
   "outputs": [],
   "source": [
    "# Get a list of all files in the input image directory\n",
    "file_names = [item.name for item in input_path.iterdir()]\n",
    "print(file_names)"
   ]
  },
  {
   "cell_type": "code",
   "execution_count": null,
   "id": "34a9c5db-2ffa-4ad3-b53f-f6e869a4a55b",
   "metadata": {},
   "outputs": [],
   "source": [
    "# load an image using `imread` \n",
    "img = cv.imread(input_path.joinpath(\"mountain.jpg\"))\n",
    "print(type(img))"
   ]
  },
  {
   "cell_type": "markdown",
   "id": "10cb41ca-697b-4935-bf9a-39b76cf0b0f4",
   "metadata": {},
   "source": [
    "### Display Image Dimensions"
   ]
  },
  {
   "cell_type": "code",
   "execution_count": null,
   "id": "d329b64a-c2f6-49c0-a3c9-33f4e5037995",
   "metadata": {},
   "outputs": [],
   "source": [
    "# Get Shape (dimensions) of the image\n",
    "print(f\"Image dimensions (height, width, channels): {img.shape}\")"
   ]
  },
  {
   "cell_type": "code",
   "execution_count": null,
   "id": "eae3c53d-3fdc-4066-b28b-ee09ce545c89",
   "metadata": {},
   "outputs": [],
   "source": [
    "# Accessing a dimension: You can access each dimension \n",
    "# by indexing the shape of the image object\n",
    "print(f\"The image height (rows):   {img.shape[0]} pixels\")\n",
    "print(f\"The image width (colomns): {img.shape[1]} pixels\")\n",
    "print(f\"The image n-channels:      {img.shape[2]} colors\")"
   ]
  },
  {
   "cell_type": "markdown",
   "id": "24472acb-67cd-4525-8d30-d45e18ab2c11",
   "metadata": {},
   "source": [
    "### Display Image"
   ]
  },
  {
   "cell_type": "code",
   "execution_count": null,
   "id": "c1c9750a-b189-4ab0-a72d-e0159bac9d34",
   "metadata": {},
   "outputs": [],
   "source": [
    "# Display the image\n",
    "plt.imshow(img)\n",
    "plt.axis('off')\n",
    "plt.show()"
   ]
  },
  {
   "cell_type": "markdown",
   "id": "18021f9e-1848-4655-9d66-83bffe463cd4",
   "metadata": {},
   "source": [
    "- **Notice**:\n",
    "    - The image has a weird looking because\n",
    "    - The `openCV imread` method reads the images as BGR and\n",
    "    - `matplotlib imshow` method expects an RGB image.\n",
    "- We need to convert the image to RGB, to do that we use `open COLOR_BGR2RGB` method."
   ]
  },
  {
   "cell_type": "code",
   "execution_count": null,
   "id": "51b49fcc-6475-438a-8d89-3557e2512983",
   "metadata": {},
   "outputs": [],
   "source": [
    "# Convert BGR to RGB \n",
    "rgb_img = cv.cvtColor(img, cv.COLOR_BGR2RGB)"
   ]
  },
  {
   "cell_type": "code",
   "execution_count": null,
   "id": "064dd27d-b3b6-4e0a-ac50-f5644afe05fc",
   "metadata": {},
   "outputs": [],
   "source": [
    "# Display the RGB image now\n",
    "plt.imshow(rgb_img)\n",
    "plt.axis('off')\n",
    "plt.show()"
   ]
  },
  {
   "cell_type": "code",
   "execution_count": null,
   "id": "2cb5353c-6736-474e-ae17-ebd678b1a34d",
   "metadata": {},
   "outputs": [],
   "source": [
    "# Check other image properties\n",
    "#  1. The number of bytes\n",
    "print(f\"{'The image size:':<25} {rgb_img.nbytes} bytes.\")\n",
    "\n",
    "#  2. Data type of the image\n",
    "print(f\"{'Image data type:':<25} {rgb_img.dtype}\")\n",
    "\n",
    "#  3. Memory layout (contiguous or not)\n",
    "print(f\"{'Memory is contiguous:':<25} {rgb_img.flags['C_CONTIGUOUS']}\")\n",
    "\n",
    "#  4. Min and max pixel values (useful for understanding dynamic range)\n",
    "print(f\"Min pixel value: {rgb_img.min()}, Max pixel value: {rgb_img.max()}\")"
   ]
  },
  {
   "cell_type": "code",
   "execution_count": null,
   "id": "5898f0c7-d586-4090-abc7-8f3b0339697b",
   "metadata": {},
   "outputs": [],
   "source": [
    "# Saving Images in OpenCV\n",
    "# -----------------------\n",
    "# OpenCV provides easy ways to save images to disk using cv2.imwrite()"
   ]
  },
  {
   "cell_type": "code",
   "execution_count": null,
   "id": "39cf2384-1d13-42e3-b284-e27393e20414",
   "metadata": {},
   "outputs": [],
   "source": [
    "# Save as PNG image\n",
    "png_result = cv.imwrite(save_path.joinpath('mountain_out.png'), rgb_img)"
   ]
  },
  {
   "cell_type": "code",
   "execution_count": null,
   "id": "ed5e47ef-87f8-4dd9-9bbc-55fca656042a",
   "metadata": {},
   "outputs": [],
   "source": [
    "if png_result:\n",
    "    print('Th image is saved successfully')"
   ]
  },
  {
   "cell_type": "code",
   "execution_count": null,
   "id": "c1c47d7b-a695-40cd-b4f5-3dc7e6ee8988",
   "metadata": {},
   "outputs": [],
   "source": [
    "# Check the saved image \n",
    "print(\"\\nSaved files:\")\n",
    "for item in Path(save_path).iterdir():\n",
    "    if 'mountain_out.png' in item.name:\n",
    "        print(f\"- {item.name}\")"
   ]
  },
  {
   "cell_type": "code",
   "execution_count": null,
   "id": "e9db4f7f-6559-4fcb-a34e-986f7fcfc454",
   "metadata": {},
   "outputs": [],
   "source": []
  }
 ],
 "metadata": {
  "kernelspec": {
   "display_name": "CV-ENV:Py3.13",
   "language": "python",
   "name": "cv-env"
  },
  "language_info": {
   "codemirror_mode": {
    "name": "ipython",
    "version": 3
   },
   "file_extension": ".py",
   "mimetype": "text/x-python",
   "name": "python",
   "nbconvert_exporter": "python",
   "pygments_lexer": "ipython3",
   "version": "3.13.2"
  }
 },
 "nbformat": 4,
 "nbformat_minor": 5
}
